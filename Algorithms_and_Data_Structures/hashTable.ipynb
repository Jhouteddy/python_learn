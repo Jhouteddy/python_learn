{
 "cells": [
  {
   "cell_type": "code",
   "execution_count": 4,
   "metadata": {},
   "outputs": [],
   "source": [
    "class HashTable(object):\n",
    "\n",
    "    def __init__(self):\n",
    "        self.size = 10\n",
    "        self.keys = [None] * self.size\n",
    "        self.values = [None] * self.size\n",
    "\n",
    "    def put(self, key, data):\n",
    "\n",
    "        index = self.hashfunction(key)\n",
    "\n",
    "        # not None -> it is a collision !!!\n",
    "        while self.keys[index] is not None:\t\n",
    "            if self.keys[index] == key:\n",
    "                self.values[index] = data # update\n",
    "                return\n",
    "\n",
    "            # rehash try to find another slot\n",
    "            index = (index+1)%self.size\n",
    "\n",
    "        # insert\n",
    "        self.keys[index] = key\n",
    "        self.values[index] = data\n",
    "\n",
    "    def get(self,key):\n",
    "\n",
    "        index = self.hashfunction(key)\n",
    "\n",
    "        while self.keys[index] is not None:\n",
    "            if self.keys[index] == key:\n",
    "                return self.values[index]\n",
    "\n",
    "            index = (index+1)%self.size\n",
    "\n",
    "        # it means the key is not present in the associative array\n",
    "        return None\n",
    "\n",
    "    def hashfunction(self, key): \n",
    "        sum = 0\n",
    "        for pos in range(len(key)):\n",
    "            sum = sum + ord(key[pos])\n",
    "\n",
    "        return sum%self.size"
   ]
  },
  {
   "cell_type": "code",
   "execution_count": 8,
   "metadata": {},
   "outputs": [
    {
     "name": "stdout",
     "output_type": "stream",
     "text": [
      "40\n"
     ]
    }
   ],
   "source": [
    "table =HashTable()\n",
    "\n",
    "table.put(\"apple\",10)\n",
    "table.put(\"orange\",20)\n",
    "table.put(\"car\",30)\n",
    "table.put(\"rac\",40)\n",
    "\n",
    "print(table.get(\"rac\"))"
   ]
  },
  {
   "cell_type": "code",
   "execution_count": 13,
   "metadata": {},
   "outputs": [],
   "source": [
    "dic={'Joe':15,'Adam':26}"
   ]
  },
  {
   "cell_type": "code",
   "execution_count": 16,
   "metadata": {},
   "outputs": [
    {
     "name": "stdout",
     "output_type": "stream",
     "text": [
      "15\n"
     ]
    }
   ],
   "source": [
    "print(dic['Joe'])"
   ]
  },
  {
   "cell_type": "code",
   "execution_count": null,
   "metadata": {},
   "outputs": [],
   "source": []
  }
 ],
 "metadata": {
  "kernelspec": {
   "display_name": "Python 3",
   "language": "python",
   "name": "python3"
  },
  "language_info": {
   "codemirror_mode": {
    "name": "ipython",
    "version": 3
   },
   "file_extension": ".py",
   "mimetype": "text/x-python",
   "name": "python",
   "nbconvert_exporter": "python",
   "pygments_lexer": "ipython3",
   "version": "3.7.4"
  }
 },
 "nbformat": 4,
 "nbformat_minor": 4
}
