{
 "cells": [
  {
   "cell_type": "code",
   "execution_count": 2,
   "metadata": {},
   "outputs": [],
   "source": [
    "#LIFO: last item we insert is the first item we take out"
   ]
  },
  {
   "cell_type": "code",
   "execution_count": 15,
   "metadata": {},
   "outputs": [],
   "source": [
    "class Stack:\n",
    "    def __init__(self):\n",
    "        self.stack=[]\n",
    "    \n",
    "    #insert item into the stack//O(1)\n",
    "    def push(self,data):\n",
    "        self.stack.append(data)\n",
    "    \n",
    "    #remove and return the last item we have inserted//O(1)\n",
    "    def pop(self):\n",
    "        if self.stack_size()<1:\n",
    "            return -1\n",
    "        data=self.stack[-1]\n",
    "        del self.stack[-1]\n",
    "        return data\n",
    "    \n",
    "    #peak: ite returns the last item without removing it//O(1)\n",
    "    def peak(self):\n",
    "        return self.stack[-1]\n",
    "                \n",
    "    #has O(1) runining time                      \n",
    "    def is_empty(self):\n",
    "        return self.stack==[]\n",
    "    \n",
    "    def stack_size(self):\n",
    "        return len(self.stack)"
   ]
  },
  {
   "cell_type": "code",
   "execution_count": 16,
   "metadata": {},
   "outputs": [
    {
     "name": "stdout",
     "output_type": "stream",
     "text": [
      "Size:3\n",
      "Popped item:3\n",
      "Size:2\n",
      "Peak item:2\n",
      "Popped item:2\n",
      "Popped item:1\n",
      "Popped item:-1\n"
     ]
    }
   ],
   "source": [
    "stack=Stack()\n",
    "stack.push(1)\n",
    "stack.push(2)\n",
    "stack.push(3)\n",
    "print('Size:%d'%stack.stack_size())\n",
    "print('Popped item:%d'%stack.pop())\n",
    "print('Size:%d'%stack.stack_size())\n",
    "print('Peak item:%d'%stack.peak())\n",
    "print('Popped item:%d'%stack.pop())\n",
    "print('Popped item:%d'%stack.pop())\n",
    "print('Popped item:%d'%stack.pop())"
   ]
  },
  {
   "cell_type": "code",
   "execution_count": null,
   "metadata": {},
   "outputs": [],
   "source": []
  }
 ],
 "metadata": {
  "kernelspec": {
   "display_name": "Python 3",
   "language": "python",
   "name": "python3"
  },
  "language_info": {
   "codemirror_mode": {
    "name": "ipython",
    "version": 3
   },
   "file_extension": ".py",
   "mimetype": "text/x-python",
   "name": "python",
   "nbconvert_exporter": "python",
   "pygments_lexer": "ipython3",
   "version": "3.7.4"
  }
 },
 "nbformat": 4,
 "nbformat_minor": 4
}
