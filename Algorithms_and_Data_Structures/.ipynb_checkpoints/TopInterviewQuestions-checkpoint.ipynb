{
 "cells": [
  {
   "cell_type": "markdown",
   "metadata": {},
   "source": [
    "# Reversing an array in-place overview\n",
    "Interview Question #1\n",
    "\n",
    "The problem is that we want to reverse a T[] array in O(N) linear time complexity and we want the algorithm to be in-place as well!\n",
    "\n",
    "For example: input is [1,2,3,4,5] then the output is [5,4,3,2,1]"
   ]
  },
  {
   "cell_type": "code",
   "execution_count": 29,
   "metadata": {},
   "outputs": [],
   "source": [
    "def rever_array(input):\n",
    "    for i in range((len(input))//2):\n",
    "        input[i],input[(len(input)-1)-i]=input[(len(input)-1)-i],input[i]\n",
    "    return input "
   ]
  },
  {
   "cell_type": "code",
   "execution_count": 30,
   "metadata": {},
   "outputs": [
    {
     "name": "stdout",
     "output_type": "stream",
     "text": [
      "[7, 6, 5, 4, 33, 2, 11]\n"
     ]
    }
   ],
   "source": [
    "input_array=[11,2,33,4,5,6,7]\n",
    "print(rever_array(input_array))"
   ]
  },
  {
   "cell_type": "markdown",
   "metadata": {},
   "source": [
    "# Palindrome problem overview\n",
    "## Interview Question #2\n",
    "\n",
    "\"A palindrome is a string that reads the same forward and backward\"\n",
    "\n",
    "For example: radar or madam\n",
    "\n",
    "Our task is to design an optimal algorithm for checking whether a given string is palindrome or not! "
   ]
  },
  {
   "cell_type": "code",
   "execution_count": 41,
   "metadata": {},
   "outputs": [],
   "source": [
    "def palindrome(s):\n",
    "    index=0\n",
    "    while index<(len(s))//2:\n",
    "        if s[index]!=s[len(s)-1-index]:\n",
    "            return False\n",
    "        else:\n",
    "            index+=1\n",
    "    return True"
   ]
  },
  {
   "cell_type": "code",
   "execution_count": 44,
   "metadata": {},
   "outputs": [
    {
     "name": "stdout",
     "output_type": "stream",
     "text": [
      "True\n"
     ]
    }
   ],
   "source": [
    "test_s='radar'\n",
    "print(palindrome(test_s))"
   ]
  },
  {
   "cell_type": "code",
   "execution_count": 47,
   "metadata": {},
   "outputs": [],
   "source": [
    "## 參考解答\n",
    "def is_palindrome(s):\n",
    "    o_s=s\n",
    "    r_s=s[::-1]\n",
    "    if o_s!=r_s:\n",
    "        return False\n",
    "    return True"
   ]
  },
  {
   "cell_type": "code",
   "execution_count": 46,
   "metadata": {},
   "outputs": [
    {
     "name": "stdout",
     "output_type": "stream",
     "text": [
      "True\n"
     ]
    }
   ],
   "source": [
    "test_s='radar'\n",
    "print(is_palindrome(test_s))"
   ]
  },
  {
   "cell_type": "markdown",
   "metadata": {},
   "source": [
    "# Integer reversion problem overview\n",
    "## Interview Question #3\n",
    "\n",
    "Our task is to design an efficient algorithm to reverse a given integer. \n",
    "For example if the input of the algorithm is 1234 then the output should be 4321."
   ]
  },
  {
   "cell_type": "code",
   "execution_count": 50,
   "metadata": {},
   "outputs": [],
   "source": [
    "def int_reversion(number):\n",
    "    ans=0\n",
    "    while number!=0:\n",
    "        ans=ans*10+number%10\n",
    "        number//=10\n",
    "    return ans"
   ]
  },
  {
   "cell_type": "code",
   "execution_count": 53,
   "metadata": {},
   "outputs": [
    {
     "name": "stdout",
     "output_type": "stream",
     "text": [
      "47521\n"
     ]
    }
   ],
   "source": [
    "n=12574\n",
    "print(int_reversion(n))"
   ]
  },
  {
   "cell_type": "markdown",
   "metadata": {},
   "source": [
    "# Duplicates in an array problem overview\n",
    "## Interview Question #4\n",
    "\n",
    "The problem is that we want to find duplicates in a one-dimensional array of integers in O(N) running time where the integer values are smaller than the length of the array!"
   ]
  },
  {
   "cell_type": "code",
   "execution_count": 78,
   "metadata": {},
   "outputs": [],
   "source": [
    "def find_duplicates(nums):\n",
    "    tmp={}\n",
    "    for num in nums:\n",
    "        if num not in tmp:\n",
    "            tmp[num]=0\n",
    "        else:\n",
    "            print(\"Repetition found:\",abs(num))"
   ]
  },
  {
   "cell_type": "code",
   "execution_count": 79,
   "metadata": {},
   "outputs": [
    {
     "name": "stdout",
     "output_type": "stream",
     "text": [
      "Repetition found: 5\n",
      "Repetition found: 2\n"
     ]
    }
   ],
   "source": [
    "test_nums=[2,6,5,5,4,3,2]\n",
    "find_duplicates(test_nums)"
   ]
  },
  {
   "cell_type": "code",
   "execution_count": 80,
   "metadata": {},
   "outputs": [],
   "source": [
    "## 參考解答\n",
    "def duplicates(nums):\n",
    "    for num in nums:\n",
    "        if nums[abs(num)]>=0:\n",
    "            nums[abs(num)]=-nums[abs(num)]\n",
    "        else:\n",
    "            print(\"Repetition found:\",abs(num))"
   ]
  },
  {
   "cell_type": "code",
   "execution_count": 81,
   "metadata": {},
   "outputs": [
    {
     "name": "stdout",
     "output_type": "stream",
     "text": [
      "Repetition found: 5\n",
      "Repetition found: 2\n"
     ]
    }
   ],
   "source": [
    "duplicates(test_nums)"
   ]
  },
  {
   "cell_type": "markdown",
   "metadata": {},
   "source": [
    "# Anagram problem overview\n",
    "## Interview Question #5\n",
    "\n",
    "Construct an algorithm to check whether two words (or phrases) are anagrams or not!"
   ]
  },
  {
   "cell_type": "code",
   "execution_count": null,
   "metadata": {},
   "outputs": [],
   "source": []
  },
  {
   "cell_type": "markdown",
   "metadata": {},
   "source": [
    "# Largest sum subarray problem overview\n",
    "## Interview Question #6\n",
    "\n",
    "Create an algorithm to find the sum of contiguous subarray within a one-dimensional array of numbers which has the largest sum!"
   ]
  },
  {
   "cell_type": "code",
   "execution_count": null,
   "metadata": {},
   "outputs": [],
   "source": []
  },
  {
   "cell_type": "markdown",
   "metadata": {},
   "source": [
    "# Finding the middle node in a linked list overview\n",
    "## Interview Question #7\n",
    "\n",
    "Suppose we have a standard linked list. Construct an in-place (without extra memory) algorithm thats able to find the middle node!"
   ]
  },
  {
   "cell_type": "code",
   "execution_count": null,
   "metadata": {},
   "outputs": [],
   "source": []
  },
  {
   "cell_type": "markdown",
   "metadata": {},
   "source": [
    "# Reverse a linked list in-place overview\n",
    "## Interview Question #8\n",
    "\n",
    "Construct an in-place algorithm to reverse a linked list!"
   ]
  },
  {
   "cell_type": "code",
   "execution_count": null,
   "metadata": {},
   "outputs": [],
   "source": []
  },
  {
   "cell_type": "markdown",
   "metadata": {},
   "source": [
    "# Max in a stack problem overview\n",
    "## Interview Question #9\n",
    "\n",
    "The aim is to design an algorithm that can return the maximum item of a stack in O(1) running time complexity. We can use O(N) extra memory!\n",
    "\n",
    "Hint: we can use another stack to track the max item"
   ]
  },
  {
   "cell_type": "code",
   "execution_count": null,
   "metadata": {},
   "outputs": [],
   "source": []
  },
  {
   "cell_type": "markdown",
   "metadata": {},
   "source": [
    "# Queue with stack problem\n",
    "## Interview Question #10\n",
    "\n",
    "The aim is to design a queue abstract data type with the help of stacks."
   ]
  },
  {
   "cell_type": "code",
   "execution_count": null,
   "metadata": {},
   "outputs": [],
   "source": []
  },
  {
   "cell_type": "markdown",
   "metadata": {},
   "source": [
    "# Compare binary trees overview\n",
    "## Interview Question #11\n",
    "\n",
    "Write an efficient algorithm thats able to compare two binary search trees. The method returns true if the trees are identical (same topology with same values in the nodes) otherwise it returns false."
   ]
  },
  {
   "cell_type": "code",
   "execution_count": null,
   "metadata": {},
   "outputs": [],
   "source": []
  }
 ],
 "metadata": {
  "kernelspec": {
   "display_name": "Python 3",
   "language": "python",
   "name": "python3"
  },
  "language_info": {
   "codemirror_mode": {
    "name": "ipython",
    "version": 3
   },
   "file_extension": ".py",
   "mimetype": "text/x-python",
   "name": "python",
   "nbconvert_exporter": "python",
   "pygments_lexer": "ipython3",
   "version": "3.7.4"
  }
 },
 "nbformat": 4,
 "nbformat_minor": 4
}
