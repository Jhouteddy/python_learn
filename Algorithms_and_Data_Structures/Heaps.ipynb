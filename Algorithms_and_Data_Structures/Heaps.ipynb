{
 "cells": [
  {
   "cell_type": "code",
   "execution_count": 8,
   "metadata": {},
   "outputs": [],
   "source": [
    "class Heap(object):\n",
    "\n",
    "    CAPACITY = 10\n",
    "\n",
    "    def __init__(self):\n",
    "        self.heap = [0]*Heap.CAPACITY;\n",
    "        self.heap_size = 0;\n",
    "\n",
    "    def insert(self, item):\n",
    "\n",
    "        if Heap.CAPACITY==self.heap_size:\n",
    "            print(\"Heap is full..\");\n",
    "            return \n",
    "\n",
    "        self.heap[self.heap_size] = item\n",
    "        self.heap_size = self.heap_size + 1\n",
    "        self.fixUp(self.heap_size-1)\n",
    "\n",
    "    def fixUp(self, index):\n",
    "\n",
    "        parentIndex = int((index-1)/2)\n",
    "\n",
    "        if index > 0 and self.heap[parentIndex] < self.heap[index]:\n",
    "            self.swap(index,parentIndex)\n",
    "            self.fixUp(parentIndex)\n",
    "    \n",
    "    def swap(self,index1,index2):\n",
    "        self.heap[index2],self.heap[index1]=self.heap[index1],self.heap[index2]\n",
    "    \n",
    "    def get_max(self):\n",
    "        return self.heap[0]\n",
    "    \n",
    "    def poll(self):\n",
    "        max =self.get_max()\n",
    "        self.swap(0,self.heap_size-1)\n",
    "        self.heap_size=self.heap_size-1\n",
    "        self.fixDown(0)\n",
    "        return max\n",
    "    \n",
    "    def heapsort(self):\n",
    "\n",
    "        size=self.heap_size\n",
    "        for i in range(0,size):\n",
    "            max=self.poll()\n",
    "            print(\"%d \" % max)\n",
    "            \n",
    "    def fixDown(self, index):\n",
    "        \n",
    "        leftChild = 2*index+1\n",
    "        rightChild = 2*index+2\n",
    "        \n",
    "        index_largest=index\n",
    "        \n",
    "        if leftChild < self.heap_size and self.heap[leftChild]>self.heap[index]:\n",
    "            index_largest=leftChild\n",
    "        \n",
    "        if rightChild < self.heap_size and self.heap[rightChild]>self.heap[index_largest]:\n",
    "            index_largest=rightChild\n",
    "\n",
    "        if index!= index_largest:\n",
    "            self.swap(index,index_largest)\n",
    "            self.fixDown(index_largest)\n",
    "            \n",
    "    def isFull(self):\n",
    "        if self.currentPosition == Heap.HEAP_SIZE:\n",
    "            return True\n",
    "        else:\n",
    "            return False"
   ]
  },
  {
   "cell_type": "code",
   "execution_count": 11,
   "metadata": {},
   "outputs": [
    {
     "name": "stdout",
     "output_type": "stream",
     "text": [
      ".....................\n",
      "20 \n",
      "15 \n",
      "10 \n",
      "7 \n",
      "6 \n",
      "5 \n",
      "4 \n",
      "2 \n",
      "0 \n",
      "-20 \n"
     ]
    }
   ],
   "source": [
    "heap = Heap()\n",
    "heap.insert(10)\n",
    "heap.insert(-20)\n",
    "heap.insert(0)\n",
    "heap.insert(2)\n",
    "heap.insert(4)\n",
    "heap.insert(5)\n",
    "heap.insert(6)\n",
    "heap.insert(7)\n",
    "heap.insert(20)\n",
    "heap.insert(15)\n",
    "print('.....................')\n",
    "heap.heapsort()"
   ]
  },
  {
   "cell_type": "code",
   "execution_count": 10,
   "metadata": {},
   "outputs": [],
   "source": [
    "heap.heapsort()"
   ]
  },
  {
   "cell_type": "code",
   "execution_count": 12,
   "metadata": {},
   "outputs": [],
   "source": [
    "from heapq import heappop,heappush,heapify"
   ]
  },
  {
   "cell_type": "code",
   "execution_count": 27,
   "metadata": {},
   "outputs": [],
   "source": [
    "heap=[]\n",
    "nums=[12,3,-2,6,4,8,9]"
   ]
  },
  {
   "cell_type": "code",
   "execution_count": 24,
   "metadata": {},
   "outputs": [],
   "source": [
    "for num in nums:\n",
    "    heappush(heap,num)"
   ]
  },
  {
   "cell_type": "code",
   "execution_count": 21,
   "metadata": {},
   "outputs": [
    {
     "name": "stdout",
     "output_type": "stream",
     "text": [
      "-2\n",
      "3\n",
      "4\n",
      "6\n",
      "8\n",
      "9\n",
      "12\n"
     ]
    }
   ],
   "source": [
    "while heap:\n",
    "    print(heappop(heap))"
   ]
  },
  {
   "cell_type": "code",
   "execution_count": 28,
   "metadata": {},
   "outputs": [],
   "source": [
    "heapify(nums)"
   ]
  },
  {
   "cell_type": "code",
   "execution_count": 29,
   "metadata": {},
   "outputs": [
    {
     "name": "stdout",
     "output_type": "stream",
     "text": [
      "[-2, 3, 8, 6, 4, 12, 9]\n"
     ]
    }
   ],
   "source": [
    "print(nums)"
   ]
  },
  {
   "cell_type": "code",
   "execution_count": null,
   "metadata": {},
   "outputs": [],
   "source": []
  }
 ],
 "metadata": {
  "kernelspec": {
   "display_name": "Python 3",
   "language": "python",
   "name": "python3"
  },
  "language_info": {
   "codemirror_mode": {
    "name": "ipython",
    "version": 3
   },
   "file_extension": ".py",
   "mimetype": "text/x-python",
   "name": "python",
   "nbconvert_exporter": "python",
   "pygments_lexer": "ipython3",
   "version": "3.7.4"
  }
 },
 "nbformat": 4,
 "nbformat_minor": 4
}
