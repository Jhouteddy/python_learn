{
 "cells": [
  {
   "cell_type": "code",
   "execution_count": 1,
   "metadata": {},
   "outputs": [],
   "source": [
    "#FIFO: firs item we insert is the first item we take out"
   ]
  },
  {
   "cell_type": "code",
   "execution_count": 7,
   "metadata": {},
   "outputs": [],
   "source": [
    "class Queue:\n",
    "    def __init__(self):\n",
    "        self.queue=[]\n",
    "    \n",
    "    #insert item into the queue//O(1)\n",
    "    def enqueue(self,data):\n",
    "        self.queue.append(data)\n",
    "    \n",
    "    #O(N)\n",
    "    def dequeue(self):\n",
    "        if self.queue_size()<1:\n",
    "            return -1\n",
    "        data=self.queue[0]\n",
    "        del self.queue[0]\n",
    "        return data\n",
    "    \n",
    "    #peak: ite returns the first item without removing it//O(1)\n",
    "    def peak(self):\n",
    "        return self.queue[0]\n",
    "                \n",
    "    #has O(1) runining time                      \n",
    "    def is_empty(self):\n",
    "        return self.queue==[]\n",
    "    \n",
    "    def queue_size(self):\n",
    "        return len(self.queue)"
   ]
  },
  {
   "cell_type": "code",
   "execution_count": 8,
   "metadata": {},
   "outputs": [
    {
     "name": "stdout",
     "output_type": "stream",
     "text": [
      "Size:3\n",
      "Dequeue item:1\n",
      "Size:2\n",
      "Peak item:2\n",
      "Dequeue item:2\n",
      "Dequeue item:3\n",
      "Dequeue item:-1\n"
     ]
    }
   ],
   "source": [
    "queue=Queue()\n",
    "queue.enqueue(1)\n",
    "queue.enqueue(2)\n",
    "queue.enqueue(3)\n",
    "print('Size:%d'%queue.queue_size())\n",
    "print('Dequeue item:%d'%queue.dequeue())\n",
    "print('Size:%d'%queue.queue_size())\n",
    "print('Peak item:%d'%queue.peak())\n",
    "print('Dequeue item:%d'%queue.dequeue())\n",
    "print('Dequeue item:%d'%queue.dequeue())\n",
    "print('Dequeue item:%d'%queue.dequeue())"
   ]
  },
  {
   "cell_type": "code",
   "execution_count": null,
   "metadata": {},
   "outputs": [],
   "source": []
  }
 ],
 "metadata": {
  "kernelspec": {
   "display_name": "Python 3",
   "language": "python",
   "name": "python3"
  },
  "language_info": {
   "codemirror_mode": {
    "name": "ipython",
    "version": 3
   },
   "file_extension": ".py",
   "mimetype": "text/x-python",
   "name": "python",
   "nbconvert_exporter": "python",
   "pygments_lexer": "ipython3",
   "version": "3.7.4"
  }
 },
 "nbformat": 4,
 "nbformat_minor": 4
}
